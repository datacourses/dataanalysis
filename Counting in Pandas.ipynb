{
 "cells": [
  {
   "cell_type": "code",
   "execution_count": 1,
   "metadata": {},
   "outputs": [],
   "source": [
    "import pandas as pd"
   ]
  },
  {
   "cell_type": "code",
   "execution_count": 21,
   "metadata": {},
   "outputs": [],
   "source": [
    "csv_name = \"citibike_stations_data.csv\""
   ]
  },
  {
   "cell_type": "code",
   "execution_count": 22,
   "metadata": {},
   "outputs": [],
   "source": [
    "df = pd.read_csv(\"citibike_stations_data.csv\")"
   ]
  },
  {
   "cell_type": "code",
   "execution_count": 23,
   "metadata": {
    "scrolled": true
   },
   "outputs": [
    {
     "data": {
      "text/html": [
       "<div>\n",
       "<style scoped>\n",
       "    .dataframe tbody tr th:only-of-type {\n",
       "        vertical-align: middle;\n",
       "    }\n",
       "\n",
       "    .dataframe tbody tr th {\n",
       "        vertical-align: top;\n",
       "    }\n",
       "\n",
       "    .dataframe thead th {\n",
       "        text-align: right;\n",
       "    }\n",
       "</style>\n",
       "<table border=\"1\" class=\"dataframe\">\n",
       "  <thead>\n",
       "    <tr style=\"text-align: right;\">\n",
       "      <th></th>\n",
       "      <th>Unnamed: 0</th>\n",
       "      <th>capacity</th>\n",
       "      <th>eightd_has_key_dispenser</th>\n",
       "      <th>eightd_station_services</th>\n",
       "      <th>electric_bike_surcharge_waiver</th>\n",
       "      <th>external_id</th>\n",
       "      <th>has_kiosk</th>\n",
       "      <th>lat</th>\n",
       "      <th>lon</th>\n",
       "      <th>name</th>\n",
       "      <th>region_id</th>\n",
       "      <th>rental_methods</th>\n",
       "      <th>rental_url</th>\n",
       "      <th>short_name</th>\n",
       "      <th>station_id</th>\n",
       "      <th>date</th>\n",
       "    </tr>\n",
       "  </thead>\n",
       "  <tbody>\n",
       "    <tr>\n",
       "      <th>0</th>\n",
       "      <td>0</td>\n",
       "      <td>39</td>\n",
       "      <td>False</td>\n",
       "      <td>[{u'description': u'Citi Bike Station Valet at...</td>\n",
       "      <td>False</td>\n",
       "      <td>66db3c29-0aca-11e7-82f6-3863bb44ef7c</td>\n",
       "      <td>True</td>\n",
       "      <td>40.730473</td>\n",
       "      <td>-73.986724</td>\n",
       "      <td>E 11 St &amp; 2 Ave</td>\n",
       "      <td>71</td>\n",
       "      <td>[u'KEY', u'CREDITCARD']</td>\n",
       "      <td>http://app.citibikenyc.com/S6Lr/IBV092JufD?sta...</td>\n",
       "      <td>5746.04</td>\n",
       "      <td>237</td>\n",
       "      <td>2019-10-27 20:53:58</td>\n",
       "    </tr>\n",
       "    <tr>\n",
       "      <th>1</th>\n",
       "      <td>1</td>\n",
       "      <td>58</td>\n",
       "      <td>False</td>\n",
       "      <td>[{u'description': u'Citi Bike Station Valet at...</td>\n",
       "      <td>False</td>\n",
       "      <td>66db6aae-0aca-11e7-82f6-3863bb44ef7c</td>\n",
       "      <td>True</td>\n",
       "      <td>40.722174</td>\n",
       "      <td>-73.983688</td>\n",
       "      <td>E 2 St &amp; Avenue B</td>\n",
       "      <td>71</td>\n",
       "      <td>[u'KEY', u'CREDITCARD']</td>\n",
       "      <td>http://app.citibikenyc.com/S6Lr/IBV092JufD?sta...</td>\n",
       "      <td>5515.02</td>\n",
       "      <td>301</td>\n",
       "      <td>2019-10-27 20:53:58</td>\n",
       "    </tr>\n",
       "    <tr>\n",
       "      <th>2</th>\n",
       "      <td>2</td>\n",
       "      <td>33</td>\n",
       "      <td>True</td>\n",
       "      <td>[{u'description': u'Citi Bike station Valet at...</td>\n",
       "      <td>False</td>\n",
       "      <td>66db6da2-0aca-11e7-82f6-3863bb44ef7c</td>\n",
       "      <td>True</td>\n",
       "      <td>40.704633</td>\n",
       "      <td>-74.013617</td>\n",
       "      <td>Broadway &amp; Battery Pl</td>\n",
       "      <td>71</td>\n",
       "      <td>[u'KEY', u'CREDITCARD']</td>\n",
       "      <td>http://app.citibikenyc.com/S6Lr/IBV092JufD?sta...</td>\n",
       "      <td>4962.01</td>\n",
       "      <td>304</td>\n",
       "      <td>2019-10-27 20:53:58</td>\n",
       "    </tr>\n",
       "    <tr>\n",
       "      <th>3</th>\n",
       "      <td>3</td>\n",
       "      <td>30</td>\n",
       "      <td>False</td>\n",
       "      <td>[{u'description': u'Citi Bike Valet station at...</td>\n",
       "      <td>False</td>\n",
       "      <td>66db6f2e-0aca-11e7-82f6-3863bb44ef7c</td>\n",
       "      <td>True</td>\n",
       "      <td>40.714275</td>\n",
       "      <td>-73.989900</td>\n",
       "      <td>Canal St &amp; Rutgers St</td>\n",
       "      <td>71</td>\n",
       "      <td>[u'KEY', u'CREDITCARD']</td>\n",
       "      <td>http://app.citibikenyc.com/S6Lr/IBV092JufD?sta...</td>\n",
       "      <td>5303.08</td>\n",
       "      <td>307</td>\n",
       "      <td>2019-10-27 20:53:58</td>\n",
       "    </tr>\n",
       "    <tr>\n",
       "      <th>4</th>\n",
       "      <td>4</td>\n",
       "      <td>37</td>\n",
       "      <td>False</td>\n",
       "      <td>[{u'description': u'Citi Bike station Valet at...</td>\n",
       "      <td>False</td>\n",
       "      <td>66db9925-0aca-11e7-82f6-3863bb44ef7c</td>\n",
       "      <td>True</td>\n",
       "      <td>40.703799</td>\n",
       "      <td>-74.008387</td>\n",
       "      <td>Old Slip &amp; Front St</td>\n",
       "      <td>71</td>\n",
       "      <td>[u'KEY', u'CREDITCARD']</td>\n",
       "      <td>http://app.citibikenyc.com/S6Lr/IBV092JufD?sta...</td>\n",
       "      <td>4993.12</td>\n",
       "      <td>337</td>\n",
       "      <td>2019-10-27 20:53:58</td>\n",
       "    </tr>\n",
       "  </tbody>\n",
       "</table>\n",
       "</div>"
      ],
      "text/plain": [
       "   Unnamed: 0  capacity  eightd_has_key_dispenser  \\\n",
       "0           0        39                     False   \n",
       "1           1        58                     False   \n",
       "2           2        33                      True   \n",
       "3           3        30                     False   \n",
       "4           4        37                     False   \n",
       "\n",
       "                             eightd_station_services  \\\n",
       "0  [{u'description': u'Citi Bike Station Valet at...   \n",
       "1  [{u'description': u'Citi Bike Station Valet at...   \n",
       "2  [{u'description': u'Citi Bike station Valet at...   \n",
       "3  [{u'description': u'Citi Bike Valet station at...   \n",
       "4  [{u'description': u'Citi Bike station Valet at...   \n",
       "\n",
       "   electric_bike_surcharge_waiver                           external_id  \\\n",
       "0                           False  66db3c29-0aca-11e7-82f6-3863bb44ef7c   \n",
       "1                           False  66db6aae-0aca-11e7-82f6-3863bb44ef7c   \n",
       "2                           False  66db6da2-0aca-11e7-82f6-3863bb44ef7c   \n",
       "3                           False  66db6f2e-0aca-11e7-82f6-3863bb44ef7c   \n",
       "4                           False  66db9925-0aca-11e7-82f6-3863bb44ef7c   \n",
       "\n",
       "   has_kiosk        lat        lon                   name  region_id  \\\n",
       "0       True  40.730473 -73.986724        E 11 St & 2 Ave         71   \n",
       "1       True  40.722174 -73.983688      E 2 St & Avenue B         71   \n",
       "2       True  40.704633 -74.013617  Broadway & Battery Pl         71   \n",
       "3       True  40.714275 -73.989900  Canal St & Rutgers St         71   \n",
       "4       True  40.703799 -74.008387    Old Slip & Front St         71   \n",
       "\n",
       "            rental_methods                                         rental_url  \\\n",
       "0  [u'KEY', u'CREDITCARD']  http://app.citibikenyc.com/S6Lr/IBV092JufD?sta...   \n",
       "1  [u'KEY', u'CREDITCARD']  http://app.citibikenyc.com/S6Lr/IBV092JufD?sta...   \n",
       "2  [u'KEY', u'CREDITCARD']  http://app.citibikenyc.com/S6Lr/IBV092JufD?sta...   \n",
       "3  [u'KEY', u'CREDITCARD']  http://app.citibikenyc.com/S6Lr/IBV092JufD?sta...   \n",
       "4  [u'KEY', u'CREDITCARD']  http://app.citibikenyc.com/S6Lr/IBV092JufD?sta...   \n",
       "\n",
       "  short_name  station_id                 date  \n",
       "0    5746.04         237  2019-10-27 20:53:58  \n",
       "1    5515.02         301  2019-10-27 20:53:58  \n",
       "2    4962.01         304  2019-10-27 20:53:58  \n",
       "3    5303.08         307  2019-10-27 20:53:58  \n",
       "4    4993.12         337  2019-10-27 20:53:58  "
      ]
     },
     "execution_count": 23,
     "metadata": {},
     "output_type": "execute_result"
    }
   ],
   "source": [
    "df.head()"
   ]
  },
  {
   "cell_type": "code",
   "execution_count": 31,
   "metadata": {},
   "outputs": [
    {
     "data": {
      "text/plain": [
       "Unnamed: 0                        886\n",
       "capacity                          886\n",
       "eightd_has_key_dispenser          886\n",
       "eightd_station_services            21\n",
       "electric_bike_surcharge_waiver    886\n",
       "external_id                       886\n",
       "has_kiosk                         886\n",
       "lat                               886\n",
       "lon                               886\n",
       "name                              886\n",
       "region_id                         886\n",
       "rental_methods                    886\n",
       "rental_url                        886\n",
       "short_name                        886\n",
       "station_id                        886\n",
       "date                              886\n",
       "dtype: int64"
      ]
     },
     "execution_count": 31,
     "metadata": {},
     "output_type": "execute_result"
    }
   ],
   "source": [
    "df.count()"
   ]
  },
  {
   "cell_type": "code",
   "execution_count": 38,
   "metadata": {},
   "outputs": [
    {
     "data": {
      "text/plain": [
       "408"
      ]
     },
     "execution_count": 38,
     "metadata": {},
     "output_type": "execute_result"
    }
   ],
   "source": [
    "df['capacity'][df['capacity'] >= 30].count()"
   ]
  },
  {
   "cell_type": "code",
   "execution_count": 41,
   "metadata": {
    "scrolled": true
   },
   "outputs": [
    {
     "data": {
      "text/plain": [
       "66    5\n",
       "61    3\n",
       "79    3\n",
       "67    3\n",
       "69    2\n",
       "63    1\n",
       "62    1\n",
       "60    1\n",
       "77    1\n",
       "72    1\n",
       "65    1\n",
       "64    1\n",
       "Name: capacity, dtype: int64"
      ]
     },
     "execution_count": 41,
     "metadata": {},
     "output_type": "execute_result"
    }
   ],
   "source": [
    "df['capacity'][df['capacity'] >= 60].value_counts()"
   ]
  },
  {
   "cell_type": "code",
   "execution_count": 42,
   "metadata": {},
   "outputs": [
    {
     "data": {
      "text/plain": [
       "<matplotlib.axes._subplots.AxesSubplot at 0x7fada8571e80>"
      ]
     },
     "execution_count": 42,
     "metadata": {},
     "output_type": "execute_result"
    },
    {
     "data": {
      "image/png": "[encoded data removed]",
      "text/plain": [
       "<Figure size 432x288 with 1 Axes>"
      ]
     },
     "metadata": {
      "needs_background": "light"
     },
     "output_type": "display_data"
    }
   ],
   "source": [
    "df['capacity'][df['capacity'] >= 60].value_counts().hist()"
   ]
  },
  {
   "cell_type": "code",
   "execution_count": 26,
   "metadata": {},
   "outputs": [
    {
     "data": {
      "text/html": [
       "<div>\n",
       "<style scoped>\n",
       "    .dataframe tbody tr th:only-of-type {\n",
       "        vertical-align: middle;\n",
       "    }\n",
       "\n",
       "    .dataframe tbody tr th {\n",
       "        vertical-align: top;\n",
       "    }\n",
       "\n",
       "    .dataframe thead th {\n",
       "        text-align: right;\n",
       "    }\n",
       "</style>\n",
       "<table border=\"1\" class=\"dataframe\">\n",
       "  <thead>\n",
       "    <tr style=\"text-align: right;\">\n",
       "      <th></th>\n",
       "      <th>Unnamed: 0</th>\n",
       "      <th>capacity</th>\n",
       "      <th>lat</th>\n",
       "      <th>lon</th>\n",
       "      <th>region_id</th>\n",
       "      <th>station_id</th>\n",
       "    </tr>\n",
       "  </thead>\n",
       "  <tbody>\n",
       "    <tr>\n",
       "      <th>count</th>\n",
       "      <td>886.000000</td>\n",
       "      <td>886.000000</td>\n",
       "      <td>886.000000</td>\n",
       "      <td>886.000000</td>\n",
       "      <td>886.000000</td>\n",
       "      <td>886.000000</td>\n",
       "    </tr>\n",
       "    <tr>\n",
       "      <th>mean</th>\n",
       "      <td>442.500000</td>\n",
       "      <td>30.609481</td>\n",
       "      <td>40.730959</td>\n",
       "      <td>-73.972746</td>\n",
       "      <td>70.942438</td>\n",
       "      <td>2506.713318</td>\n",
       "    </tr>\n",
       "    <tr>\n",
       "      <th>std</th>\n",
       "      <td>255.910466</td>\n",
       "      <td>12.409441</td>\n",
       "      <td>0.038448</td>\n",
       "      <td>0.032170</td>\n",
       "      <td>0.233045</td>\n",
       "      <td>1417.857267</td>\n",
       "    </tr>\n",
       "    <tr>\n",
       "      <th>min</th>\n",
       "      <td>0.000000</td>\n",
       "      <td>0.000000</td>\n",
       "      <td>40.655400</td>\n",
       "      <td>-74.083639</td>\n",
       "      <td>70.000000</td>\n",
       "      <td>72.000000</td>\n",
       "    </tr>\n",
       "    <tr>\n",
       "      <th>25%</th>\n",
       "      <td>221.250000</td>\n",
       "      <td>23.000000</td>\n",
       "      <td>40.699938</td>\n",
       "      <td>-73.991929</td>\n",
       "      <td>71.000000</td>\n",
       "      <td>490.250000</td>\n",
       "    </tr>\n",
       "    <tr>\n",
       "      <th>50%</th>\n",
       "      <td>442.500000</td>\n",
       "      <td>27.000000</td>\n",
       "      <td>40.725706</td>\n",
       "      <td>-73.972830</td>\n",
       "      <td>71.000000</td>\n",
       "      <td>3272.500000</td>\n",
       "    </tr>\n",
       "    <tr>\n",
       "      <th>75%</th>\n",
       "      <td>663.750000</td>\n",
       "      <td>38.000000</td>\n",
       "      <td>40.760827</td>\n",
       "      <td>-73.949135</td>\n",
       "      <td>71.000000</td>\n",
       "      <td>3546.750000</td>\n",
       "    </tr>\n",
       "    <tr>\n",
       "      <th>max</th>\n",
       "      <td>885.000000</td>\n",
       "      <td>79.000000</td>\n",
       "      <td>40.818299</td>\n",
       "      <td>-73.906630</td>\n",
       "      <td>71.000000</td>\n",
       "      <td>3891.000000</td>\n",
       "    </tr>\n",
       "  </tbody>\n",
       "</table>\n",
       "</div>"
      ],
      "text/plain": [
       "       Unnamed: 0    capacity         lat         lon   region_id   station_id\n",
       "count  886.000000  886.000000  886.000000  886.000000  886.000000   886.000000\n",
       "mean   442.500000   30.609481   40.730959  -73.972746   70.942438  2506.713318\n",
       "std    255.910466   12.409441    0.038448    0.032170    0.233045  1417.857267\n",
       "min      0.000000    0.000000   40.655400  -74.083639   70.000000    72.000000\n",
       "25%    221.250000   23.000000   40.699938  -73.991929   71.000000   490.250000\n",
       "50%    442.500000   27.000000   40.725706  -73.972830   71.000000  3272.500000\n",
       "75%    663.750000   38.000000   40.760827  -73.949135   71.000000  3546.750000\n",
       "max    885.000000   79.000000   40.818299  -73.906630   71.000000  3891.000000"
      ]
     },
     "execution_count": 26,
     "metadata": {},
     "output_type": "execute_result"
    }
   ],
   "source": [
    "df.describe()"
   ]
  },
  {
   "cell_type": "code",
   "execution_count": 46,
   "metadata": {},
   "outputs": [
    {
     "data": {
      "text/plain": [
       "Unnamed: 0                          int64\n",
       "capacity                            int64\n",
       "eightd_has_key_dispenser             bool\n",
       "eightd_station_services            object\n",
       "electric_bike_surcharge_waiver       bool\n",
       "external_id                        object\n",
       "has_kiosk                            bool\n",
       "lat                               float64\n",
       "lon                               float64\n",
       "name                               object\n",
       "region_id                           int64\n",
       "rental_methods                     object\n",
       "rental_url                         object\n",
       "short_name                         object\n",
       "station_id                          int64\n",
       "date                               object\n",
       "dtype: object"
      ]
     },
     "execution_count": 46,
     "metadata": {},
     "output_type": "execute_result"
    }
   ],
   "source": [
    "df.dtypes"
   ]
  },
  {
   "cell_type": "code",
   "execution_count": null,
   "metadata": {},
   "outputs": [],
   "source": []
  }
 ],
 "metadata": {
  "kernelspec": {
   "display_name": "Python 3",
   "language": "python",
   "name": "python3"
  },
  "language_info": {
   "codemirror_mode": {
    "name": "ipython",
    "version": 3
   },
   "file_extension": ".py",
   "mimetype": "text/x-python",
   "name": "python",
   "nbconvert_exporter": "python",
   "pygments_lexer": "ipython3",
   "version": "3.8.3"
  }
 },
 "nbformat": 4,
 "nbformat_minor": 4
}
